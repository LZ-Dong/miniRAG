{
 "cells": [
  {
   "cell_type": "code",
   "execution_count": 4,
   "metadata": {},
   "outputs": [],
   "source": [
    "from component.llms import Openai_model"
   ]
  },
  {
   "cell_type": "code",
   "execution_count": 5,
   "metadata": {},
   "outputs": [],
   "source": [
    "model=Openai_model()"
   ]
  },
  {
   "cell_type": "code",
   "execution_count": 6,
   "metadata": {},
   "outputs": [
    {
     "name": "stdout",
     "output_type": "stream",
     "text": [
      "User: 彭宏博是谁?\n",
      "        以下列表信息供你参考：\n",
      "        ['3.12-2024.01彭宏博\\n男|19岁195688836482279118516@qq.com\\n求职意向：算法工程师|期望薪资：4-9K|期望城市：广州1.热衷于AI大模型算法\\n']\n",
      "Bot: \n",
      "\n",
      "彭宏博，19岁，男性。求职意向为算法工程师，期望薪资范围为4-9K，期望城市为广州。热衷于AI大模型算法。联系方式：19568883648，邮箱：279118516@qq.com。\n"
     ]
    },
    {
     "data": {
      "text/plain": [
       "'\\n\\n彭宏博，19岁，男性。求职意向为算法工程师，期望薪资范围为4-9K，期望城市为广州。热衷于AI大模型算法。联系方式：19568883648，邮箱：279118516@qq.com。'"
      ]
     },
     "execution_count": 6,
     "metadata": {},
     "output_type": "execute_result"
    }
   ],
   "source": [
    "model.chat(\"彭宏博是谁?\")"
   ]
  },
  {
   "cell_type": "code",
   "execution_count": 1,
   "metadata": {},
   "outputs": [
    {
     "name": "stdout",
     "output_type": "stream",
     "text": [
      "Running on local URL:  http://127.0.0.1:7860\n",
      "\n",
      "To create a public link, set `share=True` in `launch()`.\n"
     ]
    },
    {
     "data": {
      "text/html": [
       "<div><iframe src=\"http://127.0.0.1:7860/\" width=\"100%\" height=\"500\" allow=\"autoplay; camera; microphone; clipboard-read; clipboard-write;\" frameborder=\"0\" allowfullscreen></iframe></div>"
      ],
      "text/plain": [
       "<IPython.core.display.HTML object>"
      ]
     },
     "metadata": {},
     "output_type": "display_data"
    },
    {
     "data": {
      "text/plain": []
     },
     "execution_count": 1,
     "metadata": {},
     "output_type": "execute_result"
    }
   ],
   "source": [
    "import gradio as gr\n",
    "from component.llms import Openai_model\n",
    "import time\n",
    "\n",
    "model=Openai_model()\n",
    "\n",
    "def echo(message, history):\n",
    "    result=model.chat(message)\n",
    "    for i in range(len(result)):\n",
    "        time.sleep(0.02)\n",
    "        yield result[: i+1]\n",
    "\n",
    "        #自定义的流式输出\n",
    "\n",
    "\n",
    "\n",
    "demo = gr.ChatInterface(fn=echo, \n",
    "                        examples=[\"彭宏博是谁\", \"萧炎是谁\",\"使用python写快速排序算法\"], \n",
    "                        title=\"Echo Bot\",\n",
    "                        theme=\"soft\")\n",
    "demo.launch()"
   ]
  },
  {
   "cell_type": "code",
   "execution_count": null,
   "metadata": {},
   "outputs": [],
   "source": []
  }
 ],
 "metadata": {
  "kernelspec": {
   "display_name": "transformers",
   "language": "python",
   "name": "python3"
  },
  "language_info": {
   "codemirror_mode": {
    "name": "ipython",
    "version": 3
   },
   "file_extension": ".py",
   "mimetype": "text/x-python",
   "name": "python",
   "nbconvert_exporter": "python",
   "pygments_lexer": "ipython3",
   "version": "3.10.13"
  }
 },
 "nbformat": 4,
 "nbformat_minor": 2
}
