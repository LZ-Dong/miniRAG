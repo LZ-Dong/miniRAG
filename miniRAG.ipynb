{
 "cells": [
  {
   "cell_type": "markdown",
   "metadata": {
    "vscode": {
     "languageId": "plaintext"
    }
   },
   "source": [
    "### 构造向量数据库"
   ]
  },
  {
   "cell_type": "code",
   "execution_count": null,
   "metadata": {},
   "outputs": [],
   "source": [
    "from component.embedding import Jinaembedding\n",
    "from component.data_chunker import ReadFile\n",
    "from component.databases import Vectordatabase\n",
    "\n",
    "filter=ReadFile('./data')\n",
    "docs=filter.get_all_chunk_content(200,150)\n",
    "embedding_model=Jinaembedding()\n",
    "database=Vectordatabase(docs)\n",
    "Vectors=database.get_vector(embedding_model)\n",
    "database.persist()"
   ]
  },
  {
   "cell_type": "markdown",
   "metadata": {},
   "source": [
    "### 加载向量数据库"
   ]
  },
  {
   "cell_type": "code",
   "execution_count": null,
   "metadata": {},
   "outputs": [],
   "source": [
    "from component.embedding import Jinaembedding\n",
    "from component.databases import Vectordatabase\n",
    "\n",
    "embedding_model=Jinaembedding()\n",
    "db=Vectordatabase()\n",
    "db.load_vector()\n",
    "text=\"我想要打开儿童锁\"\n",
    "result=db.query(text,embedding_model,1)\n",
    "print(result)"
   ]
  },
  {
   "cell_type": "markdown",
   "metadata": {},
   "source": [
    "### webdemo"
   ]
  },
  {
   "cell_type": "code",
   "execution_count": null,
   "metadata": {},
   "outputs": [],
   "source": [
    "import gradio as gr\n",
    "from component.llms import Openai_model\n",
    "import time\n",
    "\n",
    "model=Openai_model()\n",
    "\n",
    "def echo(message, history):\n",
    "    result=model.chat(message)\n",
    "    for i in range(len(result)):\n",
    "        time.sleep(0.02)\n",
    "        yield result[: i+1]\n",
    "\n",
    "demo = gr.ChatInterface(fn=echo, \n",
    "                        examples=[\"如何打开后背箱？\", \"如何打开儿童锁？\",\"如何开启近车自动解锁？\"], \n",
    "                        title=\"Echo Bot\",\n",
    "                        theme=\"soft\")\n",
    "demo.launch()"
   ]
  }
 ],
 "metadata": {
  "kernelspec": {
   "display_name": "rag_env",
   "language": "python",
   "name": "python3"
  },
  "language_info": {
   "codemirror_mode": {
    "name": "ipython",
    "version": 3
   },
   "file_extension": ".py",
   "mimetype": "text/x-python",
   "name": "python",
   "nbconvert_exporter": "python",
   "pygments_lexer": "ipython3",
   "version": "3.10.15"
  }
 },
 "nbformat": 4,
 "nbformat_minor": 2
}
