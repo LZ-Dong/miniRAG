{
 "cells": [
  {
   "cell_type": "code",
   "execution_count": 1,
   "metadata": {},
   "outputs": [
    {
     "name": "stdout",
     "output_type": "stream",
     "text": [
      "向量1: [0.5488135  0.71518937 0.60276338]\n",
      "向量2: [0.54488318 0.4236548  0.64589411]\n",
      "点积: 0.9913539725682842\n",
      "向量1的长度: 1.084442612312176\n",
      "向量2的长度: 0.9452831731337862\n"
     ]
    }
   ],
   "source": [
    "import numpy as np\n",
    "\n",
    "# 设置随机种子以获得可重复的结果（可选）\n",
    "np.random.seed(42)\n",
    "\n",
    "# 随机产生两个向量，假设每个向量的长度为3\n",
    "vector1 = np.random.rand(3)\n",
    "vector2 = np.random.rand(3)\n",
    "\n",
    "# 计算点积\n",
    "dot_product = np.dot(vector1, vector2)\n",
    "\n",
    "# 计算向量的长度（欧几里得范数）\n",
    "length_vector1 = np.linalg.norm(vector1)\n",
    "length_vector2 = np.linalg.norm(vector2)\n",
    "\n",
    "# 打印结果\n",
    "print(\"向量1:\", vector1)\n",
    "print(\"向量2:\", vector2)\n",
    "print(\"点积:\", dot_product)\n",
    "print(\"向量1的长度:\", length_vector1)\n",
    "print(\"向量2的长度:\", length_vector2)"
   ]
  },
  {
   "cell_type": "code",
   "execution_count": 67,
   "metadata": {},
   "outputs": [
    {
     "name": "stdout",
     "output_type": "stream",
     "text": [
      "-0.003281281052483966\n",
      "0.033154310285659794\n",
      "-0.07281458464429824\n",
      "-0.007119947862171625\n",
      "0.1555314668354701\n",
      "0.2531532805409866\n",
      "-0.00697820284337256\n",
      "-0.004956226302029703\n",
      "-0.12571301757536785\n",
      "-0.13866116096281403\n",
      "-0.2380974100863195\n",
      "-0.10905286008050977\n",
      "0.10719910832035015\n",
      "-0.1328115259209556\n",
      "-0.2067395270122787\n",
      "-0.055485258189357546\n",
      "-0.0377546594853625\n",
      "-0.1251502743331859\n",
      "0.11735954149949755\n",
      "0.14760528630411407\n",
      "0.0501011099484988\n",
      "0.18803672696477483\n",
      "-0.1736538970461763\n",
      "0.16394373295092834\n",
      "-0.15685612302825322\n",
      "-0.1057710855113208\n",
      "0.37561412757719415\n",
      "0.04305085329748268\n",
      "0.05555625658507952\n",
      "0.004346179783089831\n",
      "-0.012423951351911024\n",
      "-0.0646637841197575\n",
      "-0.007889989356896682\n",
      "0.006493024422031439\n",
      "-0.1395667921714268\n",
      "-0.20780546274088804\n",
      "-0.10852156419784378\n",
      "-0.09701163926365618\n",
      "-0.01656865329453864\n",
      "0.19076480647197075\n",
      "0.022120458391780812\n",
      "-0.022514338092290063\n",
      "0.1115937352053928\n",
      "-0.029405761590201827\n",
      "-0.08512023470217844\n",
      "-0.07511546262139096\n",
      "-0.10867616871332393\n",
      "0.006302411862405597\n",
      "0.006368362026155187\n",
      "-0.17527904868049884\n",
      "0.14870396547587175\n",
      "-0.07875670593820616\n",
      "0.21482262804682578\n",
      "-0.2046112624243545\n",
      "-0.010439671202627092\n",
      "0.24184820095372095\n",
      "-0.06045090132036303\n",
      "0.042470602762459855\n",
      "-0.02546704598617162\n",
      "-0.09792714414624172\n",
      "0.18519397301042825\n",
      "0.09671652127770584\n",
      "0.10800586544436906\n",
      "0.05393958652926873\n",
      "0.021385102092179614\n",
      "0.10500395476552207\n",
      "0.0549532352898447\n",
      "0.05228069162590541\n",
      "0.1206141650585199\n",
      "0.021859015773083083\n",
      "-0.14987921329844667\n",
      "-0.04427085855253096\n",
      "-0.017438950128130057\n",
      "0.27591978183282806\n",
      "0.05903097303963254\n",
      "-0.1387258061613295\n",
      "0.05283451886713452\n",
      "-0.019993083075948295\n",
      "0.09641857069147151\n",
      "-0.09901129026255993\n",
      "-0.1113506798442922\n",
      "-0.039419547003447575\n",
      "0.18146130169368901\n",
      "0.248853584673705\n",
      "0.02968381644544734\n",
      "0.05687409659709476\n",
      "0.02182814707088747\n",
      "0.015398655971310387\n",
      "0.1710197438215955\n",
      "-0.07287572359435517\n",
      "-0.02654500512637428\n",
      "0.19505413818699177\n",
      "-0.05325566861397132\n",
      "0.08679727766658617\n",
      "-0.13838491601536954\n",
      "0.15512799702835703\n",
      "-0.32906994999000955\n",
      "0.08820160945248906\n",
      "0.03267011588946731\n",
      "0.03645139992750021\n",
      "50\n"
     ]
    }
   ],
   "source": [
    "import numpy as np\n",
    "\n",
    "# 设置随机数生成器的种子\n",
    "np.random.seed(42)\n",
    "\n",
    "# 初始化变量\n",
    "all = 0\n",
    "y = 0\n",
    "\n",
    "# 循环100次\n",
    "for i in range(100):\n",
    "    # 生成两个长度为60的随机向量，元素值在[-1, 1)区间内\n",
    "    vector1 = np.random.uniform(-1, 1, 60)\n",
    "    vector2 = np.random.uniform(-1, 1, 60)\n",
    "\n",
    "    # 计算点积\n",
    "    dot = np.dot(vector1, vector2)\n",
    "\n",
    "    # 计算向量的长度\n",
    "    length_vector1 = np.linalg.norm(vector1)\n",
    "    length_vector2 = np.linalg.norm(vector2)\n",
    "\n",
    "    # 计算两个向量的相似度（点积除以两个向量长度的乘积）\n",
    "    similar = dot / (length_vector1 * length_vector2)\n",
    "\n",
    "    # 打印相似度\n",
    "    print(similar)\n",
    "\n",
    "    # 计数\n",
    "    all += 1\n",
    "    if similar >= 0:\n",
    "        y += 1\n",
    "\n",
    "# 打印相似度大于等于0.5的比例\n",
    "print(y)"
   ]
  },
  {
   "cell_type": "code",
   "execution_count": 3,
   "metadata": {},
   "outputs": [
    {
     "data": {
      "text/plain": [
       "array([0.5488135 , 0.71518937, 0.60276338])"
      ]
     },
     "execution_count": 3,
     "metadata": {},
     "output_type": "execute_result"
    }
   ],
   "source": []
  },
  {
   "cell_type": "code",
   "execution_count": 5,
   "metadata": {},
   "outputs": [
    {
     "name": "stdout",
     "output_type": "stream",
     "text": [
      "('./data', [], ['dpcq.txt', 'README.md', '中华人民共和国消费者权益保护法.pdf'])\n"
     ]
    }
   ],
   "source": [
    "import os\n",
    "for i in os.walk('./data'):\n",
    "    print(i)"
   ]
  },
  {
   "cell_type": "code",
   "execution_count": 3,
   "metadata": {},
   "outputs": [
    {
     "data": {
      "text/plain": [
       "<generator object _walk at 0x0000025E5F74FED0>"
      ]
     },
     "execution_count": 3,
     "metadata": {},
     "output_type": "execute_result"
    }
   ],
   "source": [
    "res"
   ]
  },
  {
   "cell_type": "code",
   "execution_count": 7,
   "metadata": {},
   "outputs": [
    {
     "data": {
      "text/plain": [
       "[57668, 21043, 39013, 223, 11571]"
      ]
     },
     "execution_count": 7,
     "metadata": {},
     "output_type": "execute_result"
    }
   ],
   "source": [
    "\n",
    "import tiktoken\n",
    "\n",
    "\n",
    "\n",
    "enc = tiktoken.get_encoding(\"cl100k_base\")\n",
    "\n",
    "enc.encode('你是谁？')"
   ]
  },
  {
   "cell_type": "code",
   "execution_count": 16,
   "metadata": {},
   "outputs": [],
   "source": [
    "from   component.embedding import Zhipuembedding,OpenAIembedding,HFembedding,Jinaembedding\n",
    "from component.data_chunker import ReadFile\n",
    "from component.databases import VectorDB\n",
    "import os\n",
    "import json\n",
    "from typing import Dict, List, Optional, Tuple, Union\n",
    "import PyPDF2"
   ]
  },
  {
   "cell_type": "code",
   "execution_count": 17,
   "metadata": {},
   "outputs": [],
   "source": [
    "a=ReadFile('.\\\\data')"
   ]
  },
  {
   "cell_type": "code",
   "execution_count": 18,
   "metadata": {},
   "outputs": [
    {
     "data": {
      "text/plain": [
       "['.\\\\data\\\\dpcq.txt', '.\\\\data\\\\README.md', '.\\\\data\\\\中华人民共和国消费者权益保护法.pdf']"
      ]
     },
     "execution_count": 18,
     "metadata": {},
     "output_type": "execute_result"
    }
   ],
   "source": [
    "a.readlist()"
   ]
  },
  {
   "cell_type": "code",
   "execution_count": 19,
   "metadata": {},
   "outputs": [
    {
     "data": {
      "text/plain": [
       "25"
      ]
     },
     "execution_count": 19,
     "metadata": {},
     "output_type": "execute_result"
    }
   ],
   "source": [
    "len(a.get_all_chunk_content())"
   ]
  },
  {
   "cell_type": "code",
   "execution_count": 20,
   "metadata": {},
   "outputs": [],
   "source": [
    "emd=Zhipuembedding()"
   ]
  },
  {
   "cell_type": "code",
   "execution_count": 22,
   "metadata": {},
   "outputs": [
    {
     "data": {
      "text/plain": [
       "0.825826818166129"
      ]
     },
     "execution_count": 22,
     "metadata": {},
     "output_type": "execute_result"
    }
   ],
   "source": [
    "emd.compare('我喜欢你','我爱你')"
   ]
  },
  {
   "cell_type": "code",
   "execution_count": 23,
   "metadata": {},
   "outputs": [
    {
     "data": {
      "text/plain": [
       "0.6838215984597642"
      ]
     },
     "execution_count": 23,
     "metadata": {},
     "output_type": "execute_result"
    }
   ],
   "source": [
    "emd.compare('我喜欢你','我讨厌你')"
   ]
  },
  {
   "cell_type": "code",
   "execution_count": null,
   "metadata": {},
   "outputs": [],
   "source": [
    "from tqdm import tqdm\n",
    "import numpy as np \n",
    "from component.embedding import HFembedding,OpenAIembedding,Zhipuembedding,Jinaembedding\n",
    "import os\n",
    "import json\n",
    "from typing import List\n",
    "class Vectordatabase:\n",
    "    #初始化方法，传入一个字块列表\n",
    "    def __init__(self,docs:List=[]) -> None:\n",
    "        self.docs = docs\n",
    "​\n",
    "    #对字块列表进行，批量的embedded编码，传入embedding模型，返回一个向量列表\n",
    "    def get_vector(self,EmbeddingModel)->List[List[float]]:\n",
    "        self.vectors = []\n",
    "        for doc in tqdm(self.docs):\n",
    "            self.vectors.append(EmbeddingModel.get_embedding(doc))\n",
    "        return self.vectors\n",
    "\n",
    "    #把向量列表存储到json文件中，把子块列表也存储到json文件,默认路径为'database'\n",
    "    def persist(self,path:str='database')->None:\n",
    "        if not os.path.exists(path):\n",
    "            os.makedirs(path)\n",
    "        with open(f\"{path}/doecment.json\", 'w', encoding='utf-8') as f:\n",
    "            json.dump(self.docs, f, ensure_ascii=False)\n",
    "        with open(f\"{path}/vectors.json\", 'w', encoding='utf-8') as f:\n",
    "                json.dump(self.vectors, f)\n",
    "​\n",
    "    #加载json文件中的向量和字块，得到向量列表、字块列表,默认路径为'database'\n",
    "    def load_vector(self,path:str='database')->None:\n",
    "        with open(f\"{path}/vectors.json\", 'r', encoding='utf-8') as f:\n",
    "            self.vectors = json.load(f)\n",
    "        with open(f\"{path}/doecment.json\", 'r', encoding='utf-8') as f:\n",
    "            self.document = json.load(f)\n",
    "​\n",
    "    #求向量的余弦相似度，传入两个向量和一个embedding模型，返回一个相似度\n",
    "    def get_similarity(self, vector1: List[float], vector2: List[float],embedding_model) -> float:\n",
    "        return embedding_model.compare_v(vector1, vector2)\n",
    "​\n",
    "    #求一个字符串和向量列表里的所有向量的相似度，表进行排序，返回相似度前k个的子块列表\n",
    "    def query(self, query: str, EmbeddingModel, k: int = 1) -> List[str]:\n",
    "        query_vector = EmbeddingModel.get_embedding(query)\n",
    "        result = np.array([self.get_similarity(query_vector, vector,EmbeddingModel)\n",
    "                          for vector in self.vectors])\n",
    "        return np.array(self.document)[result.argsort()[-k:][::-1]].tolist()"
   ]
  }
 ],
 "metadata": {
  "kernelspec": {
   "display_name": "transformers",
   "language": "python",
   "name": "python3"
  },
  "language_info": {
   "codemirror_mode": {
    "name": "ipython",
    "version": 3
   },
   "file_extension": ".py",
   "mimetype": "text/x-python",
   "name": "python",
   "nbconvert_exporter": "python",
   "pygments_lexer": "ipython3",
   "version": "3.10.13"
  }
 },
 "nbformat": 4,
 "nbformat_minor": 2
}
